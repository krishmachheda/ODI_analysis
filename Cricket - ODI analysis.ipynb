{
 "cells": [
  {
   "cell_type": "markdown",
   "metadata": {},
   "source": [
    "# ODI - Stats for World Cup Venues"
   ]
  },
  {
   "cell_type": "markdown",
   "metadata": {},
   "source": [
    "All required packages - "
   ]
  },
  {
   "cell_type": "code",
   "execution_count": 8,
   "metadata": {
    "collapsed": false
   },
   "outputs": [
    {
     "name": "stderr",
     "output_type": "stream",
     "text": [
      "Installing package into 'C:/Users/Krishma/Documents/R/win-library/3.5'\n",
      "(as 'lib' is unspecified)\n"
     ]
    },
    {
     "name": "stdout",
     "output_type": "stream",
     "text": [
      "package 'dplyr' successfully unpacked and MD5 sums checked\n",
      "\n",
      "The downloaded binary packages are in\n",
      "\tC:\\Users\\Krishma\\AppData\\Local\\Temp\\Rtmp63YB2S\\downloaded_packages\n"
     ]
    }
   ],
   "source": [
    "install.packages(\"dplyr\")"
   ]
  },
  {
   "cell_type": "code",
   "execution_count": 16,
   "metadata": {
    "collapsed": false
   },
   "outputs": [],
   "source": [
    "library(dplyr)"
   ]
  },
  {
   "cell_type": "code",
   "execution_count": 10,
   "metadata": {
    "collapsed": true
   },
   "outputs": [],
   "source": [
    "setwd(\"C:/Users/Krishma/Desktop/KAggle/ODI cricket matches\")"
   ]
  },
  {
   "cell_type": "code",
   "execution_count": 11,
   "metadata": {
    "collapsed": false
   },
   "outputs": [
    {
     "name": "stdout",
     "output_type": "stream",
     "text": [
      "Observations: 3,932\n",
      "Variables: 7\n",
      "$ Scorecard  <chr> \"ODI # 1\", \"ODI # 2\", \"ODI # 3\", \"ODI # 4\", \"ODI # 5\", \"...\n",
      "$ Team.1     <chr> \"Australia\", \"England\", \"England\", \"England\", \"New Zeala...\n",
      "$ Team.2     <chr> \"England\", \"Australia\", \"Australia\", \"Australia\", \"Pakis...\n",
      "$ Winner     <chr> \"Australia\", \"England\", \"Australia\", \"England\", \"New Zea...\n",
      "$ Margin     <chr> \"5 wickets\", \"6 wickets\", \"5 wickets\", \"2 wickets\", \"22 ...\n",
      "$ Ground     <chr> \"Melbourne\", \"Manchester\", \"Lord's\", \"Birmingham\", \"Chri...\n",
      "$ Match.Date <chr> \"1/5/1971\", \"8/24/1972\", \"8/26/1972\", \"8/28/1972\", \"2/11...\n"
     ]
    }
   ],
   "source": [
    "data1<- read.csv(\"originalDataset.csv\", header = T, stringsAsFactors = F)\n",
    "glimpse(data1)"
   ]
  },
  {
   "cell_type": "code",
   "execution_count": 12,
   "metadata": {
    "collapsed": false
   },
   "outputs": [
    {
     "data": {
      "text/html": [
       "0"
      ],
      "text/latex": [
       "0"
      ],
      "text/markdown": [
       "0"
      ],
      "text/plain": [
       "[1] 0"
      ]
     },
     "metadata": {},
     "output_type": "display_data"
    }
   ],
   "source": [
    "sum(is.na(data1))"
   ]
  },
  {
   "cell_type": "code",
   "execution_count": 20,
   "metadata": {
    "collapsed": false
   },
   "outputs": [
    {
     "name": "stdout",
     "output_type": "stream",
     "text": [
      "Observations: 7,494\n",
      "Variables: 13\n",
      "$ Unnamed..0    <int> 0, 1, 2, 3, 4, 5, 6, 7, 8, 9, 10, 11, 12, 13, 14, 15,...\n",
      "$ Scorecard     <chr> \"ODI # 1\", \"ODI # 2\", \"ODI # 3\", \"ODI # 4\", \"ODI # 5\"...\n",
      "$ Team.1        <chr> \"Australia\", \"England\", \"England\", \"England\", \"New Ze...\n",
      "$ Team.2        <chr> \"England\", \"Australia\", \"Australia\", \"Australia\", \"Pa...\n",
      "$ Margin        <chr> \"Winner2ndInning\", \"Winner2ndInning\", \"Winner2ndInnin...\n",
      "$ Ground        <chr> \"Melbourne\", \"Manchester\", \"Lord's\", \"Birmingham\", \"C...\n",
      "$ Match.Date    <chr> \"1/5/1971\", \"8/24/1972\", \"8/26/1972\", \"8/28/1972\", \"2...\n",
      "$ Winner        <chr> \"Australia\", \"England\", \"Australia\", \"England\", \"New ...\n",
      "$ Host_Country  <chr> \"Australia\", \"England\", \"England\", \"England\", \"New Ze...\n",
      "$ Venue_Team1   <chr> \"Home\", \"Home\", \"Home\", \"Home\", \"Home\", \"Home\", \"Home...\n",
      "$ Venue_Team2   <chr> \"Away\", \"Away\", \"Away\", \"Away\", \"Away\", \"Away\", \"Away...\n",
      "$ Innings_Team1 <chr> \"Second\", \"Second\", \"First\", \"Second\", \"First\", \"Seco...\n",
      "$ Innings_Team2 <chr> \"First\", \"First\", \"Second\", \"First\", \"Second\", \"First...\n"
     ]
    }
   ],
   "source": [
    "data2<- read.csv(\"ContinousDataset.csv\", header = T, stringsAsFactors = F)\n",
    "glimpse(data2)"
   ]
  },
  {
   "cell_type": "code",
   "execution_count": 21,
   "metadata": {
    "collapsed": false
   },
   "outputs": [
    {
     "data": {
      "text/html": [
       "0"
      ],
      "text/latex": [
       "0"
      ],
      "text/markdown": [
       "0"
      ],
      "text/plain": [
       "[1] 0"
      ]
     },
     "metadata": {},
     "output_type": "display_data"
    }
   ],
   "source": [
    "sum(is.na(data2))"
   ]
  },
  {
   "cell_type": "markdown",
   "metadata": {},
   "source": [
    "# Basic EDA on data"
   ]
  },
  {
   "cell_type": "markdown",
   "metadata": {},
   "source": [
    "Venue specific EDA"
   ]
  },
  {
   "cell_type": "code",
   "execution_count": 35,
   "metadata": {
    "collapsed": false
   },
   "outputs": [
    {
     "data": {
      "text/html": [
       "20"
      ],
      "text/latex": [
       "20"
      ],
      "text/markdown": [
       "20"
      ],
      "text/plain": [
       "[1] 20"
      ]
     },
     "metadata": {},
     "output_type": "display_data"
    }
   ],
   "source": [
    "# number of countries\n",
    "Hosts<- length(unique(data2$Host_Country))\n",
    "\n",
    "Hosts"
   ]
  },
  {
   "cell_type": "code",
   "execution_count": 39,
   "metadata": {
    "collapsed": false
   },
   "outputs": [
    {
     "data": {
      "text/html": [
       "161"
      ],
      "text/latex": [
       "161"
      ],
      "text/markdown": [
       "161"
      ],
      "text/plain": [
       "[1] 161"
      ]
     },
     "metadata": {},
     "output_type": "display_data"
    }
   ],
   "source": [
    "# total venues\n",
    "Venues<- length(unique(data2$Ground))\n",
    "\n",
    "Venues"
   ]
  },
  {
   "cell_type": "code",
   "execution_count": 41,
   "metadata": {
    "collapsed": false,
    "scrolled": true
   },
   "outputs": [
    {
     "data": {
      "text/html": [
       "<table>\n",
       "<thead><tr><th scope=col>Host_Country</th><th scope=col>n</th></tr></thead>\n",
       "<tbody>\n",
       "\t<tr><td>India           </td><td>34              </td></tr>\n",
       "\t<tr><td>England         </td><td>20              </td></tr>\n",
       "\t<tr><td>Australia       </td><td>15              </td></tr>\n",
       "\t<tr><td>West Indies     </td><td>14              </td></tr>\n",
       "\t<tr><td>New Zealand     </td><td>13              </td></tr>\n",
       "\t<tr><td>Pakistan        </td><td>12              </td></tr>\n",
       "\t<tr><td>South Africa    </td><td>12              </td></tr>\n",
       "\t<tr><td>                </td><td> 6              </td></tr>\n",
       "\t<tr><td>Sri Lanka       </td><td> 6              </td></tr>\n",
       "\t<tr><td>Bangladesh      </td><td> 5              </td></tr>\n",
       "\t<tr><td>Netherlands     </td><td> 4              </td></tr>\n",
       "\t<tr><td>Scotland        </td><td> 4              </td></tr>\n",
       "\t<tr><td>U.A.E.          </td><td> 4              </td></tr>\n",
       "\t<tr><td>Zimbabwe        </td><td> 3              </td></tr>\n",
       "\t<tr><td>Canada          </td><td> 2              </td></tr>\n",
       "\t<tr><td>Ireland         </td><td> 2              </td></tr>\n",
       "\t<tr><td>Kenya           </td><td> 2              </td></tr>\n",
       "\t<tr><td>Hong Kong       </td><td> 1              </td></tr>\n",
       "\t<tr><td>Malaysia        </td><td> 1              </td></tr>\n",
       "\t<tr><td>Papua New Guinea</td><td> 1              </td></tr>\n",
       "</tbody>\n",
       "</table>\n"
      ],
      "text/latex": [
       "\\begin{tabular}{r|ll}\n",
       " Host\\_Country & n\\\\\n",
       "\\hline\n",
       "\t India            & 34              \\\\\n",
       "\t England          & 20              \\\\\n",
       "\t Australia        & 15              \\\\\n",
       "\t West Indies      & 14              \\\\\n",
       "\t New Zealand      & 13              \\\\\n",
       "\t Pakistan         & 12              \\\\\n",
       "\t South Africa     & 12              \\\\\n",
       "\t                  &  6              \\\\\n",
       "\t Sri Lanka        &  6              \\\\\n",
       "\t Bangladesh       &  5              \\\\\n",
       "\t Netherlands      &  4              \\\\\n",
       "\t Scotland         &  4              \\\\\n",
       "\t U.A.E.           &  4              \\\\\n",
       "\t Zimbabwe         &  3              \\\\\n",
       "\t Canada           &  2              \\\\\n",
       "\t Ireland          &  2              \\\\\n",
       "\t Kenya            &  2              \\\\\n",
       "\t Hong Kong        &  1              \\\\\n",
       "\t Malaysia         &  1              \\\\\n",
       "\t Papua New Guinea &  1              \\\\\n",
       "\\end{tabular}\n"
      ],
      "text/markdown": [
       "\n",
       "Host_Country | n | \n",
       "|---|---|---|---|---|---|---|---|---|---|---|---|---|---|---|---|---|---|---|---|\n",
       "| India            | 34               | \n",
       "| England          | 20               | \n",
       "| Australia        | 15               | \n",
       "| West Indies      | 14               | \n",
       "| New Zealand      | 13               | \n",
       "| Pakistan         | 12               | \n",
       "| South Africa     | 12               | \n",
       "|                  |  6               | \n",
       "| Sri Lanka        |  6               | \n",
       "| Bangladesh       |  5               | \n",
       "| Netherlands      |  4               | \n",
       "| Scotland         |  4               | \n",
       "| U.A.E.           |  4               | \n",
       "| Zimbabwe         |  3               | \n",
       "| Canada           |  2               | \n",
       "| Ireland          |  2               | \n",
       "| Kenya            |  2               | \n",
       "| Hong Kong        |  1               | \n",
       "| Malaysia         |  1               | \n",
       "| Papua New Guinea |  1               | \n",
       "\n",
       "\n"
      ],
      "text/plain": [
       "   Host_Country     n \n",
       "1  India            34\n",
       "2  England          20\n",
       "3  Australia        15\n",
       "4  West Indies      14\n",
       "5  New Zealand      13\n",
       "6  Pakistan         12\n",
       "7  South Africa     12\n",
       "8                    6\n",
       "9  Sri Lanka         6\n",
       "10 Bangladesh        5\n",
       "11 Netherlands       4\n",
       "12 Scotland          4\n",
       "13 U.A.E.            4\n",
       "14 Zimbabwe          3\n",
       "15 Canada            2\n",
       "16 Ireland           2\n",
       "17 Kenya             2\n",
       "18 Hong Kong         1\n",
       "19 Malaysia          1\n",
       "20 Papua New Guinea  1"
      ]
     },
     "metadata": {},
     "output_type": "display_data"
    }
   ],
   "source": [
    "# number of venues, per country\n",
    "venue_count<- data2 %>%\n",
    "select(Host_Country, Ground) %>%\n",
    "group_by(Host_Country) %>%\n",
    "summarise(n = length(unique(Ground))) %>%\n",
    "arrange(desc(n))\n",
    "\n",
    "venue_count"
   ]
  },
  {
   "cell_type": "code",
   "execution_count": 42,
   "metadata": {
    "collapsed": false
   },
   "outputs": [
    {
     "data": {
      "text/html": [
       "24"
      ],
      "text/latex": [
       "24"
      ],
      "text/markdown": [
       "24"
      ],
      "text/plain": [
       "[1] 24"
      ]
     },
     "metadata": {},
     "output_type": "display_data"
    },
    {
     "data": {
      "text/html": [
       "23"
      ],
      "text/latex": [
       "23"
      ],
      "text/markdown": [
       "23"
      ],
      "text/plain": [
       "[1] 23"
      ]
     },
     "metadata": {},
     "output_type": "display_data"
    }
   ],
   "source": [
    "# team count\n",
    "teams_data1<- length(unique(data1$Team.1))\n",
    "teams_data2<- length(unique(data2$Team.1))\n",
    "\n",
    "teams_data1\n",
    "teams_data2"
   ]
  },
  {
   "cell_type": "code",
   "execution_count": 47,
   "metadata": {
    "collapsed": false
   },
   "outputs": [
    {
     "data": {
      "text/html": [
       "<ol class=list-inline>\n",
       "\t<li>'Australia'</li>\n",
       "\t<li>'England'</li>\n",
       "\t<li>'New Zealand'</li>\n",
       "\t<li>'East Africa'</li>\n",
       "\t<li>'Sri Lanka'</li>\n",
       "\t<li>'Pakistan'</li>\n",
       "\t<li>'India'</li>\n",
       "\t<li>'West Indies'</li>\n",
       "\t<li>'Canada'</li>\n",
       "\t<li>'Bangladesh'</li>\n",
       "\t<li>'South Africa'</li>\n",
       "\t<li>'Zimbabwe'</li>\n",
       "\t<li>'U.A.E.'</li>\n",
       "\t<li>'Netherlands'</li>\n",
       "\t<li>'Kenya'</li>\n",
       "\t<li>'Scotland'</li>\n",
       "\t<li>'Namibia'</li>\n",
       "\t<li>'Hong Kong'</li>\n",
       "\t<li>'Asia XI'</li>\n",
       "\t<li>'Africa XI'</li>\n",
       "\t<li>'Bermuda'</li>\n",
       "\t<li>'Ireland'</li>\n",
       "\t<li>'Afghanistan'</li>\n",
       "\t<li>'P.N.G.'</li>\n",
       "</ol>\n"
      ],
      "text/latex": [
       "\\begin{enumerate*}\n",
       "\\item 'Australia'\n",
       "\\item 'England'\n",
       "\\item 'New Zealand'\n",
       "\\item 'East Africa'\n",
       "\\item 'Sri Lanka'\n",
       "\\item 'Pakistan'\n",
       "\\item 'India'\n",
       "\\item 'West Indies'\n",
       "\\item 'Canada'\n",
       "\\item 'Bangladesh'\n",
       "\\item 'South Africa'\n",
       "\\item 'Zimbabwe'\n",
       "\\item 'U.A.E.'\n",
       "\\item 'Netherlands'\n",
       "\\item 'Kenya'\n",
       "\\item 'Scotland'\n",
       "\\item 'Namibia'\n",
       "\\item 'Hong Kong'\n",
       "\\item 'Asia XI'\n",
       "\\item 'Africa XI'\n",
       "\\item 'Bermuda'\n",
       "\\item 'Ireland'\n",
       "\\item 'Afghanistan'\n",
       "\\item 'P.N.G.'\n",
       "\\end{enumerate*}\n"
      ],
      "text/markdown": [
       "1. 'Australia'\n",
       "2. 'England'\n",
       "3. 'New Zealand'\n",
       "4. 'East Africa'\n",
       "5. 'Sri Lanka'\n",
       "6. 'Pakistan'\n",
       "7. 'India'\n",
       "8. 'West Indies'\n",
       "9. 'Canada'\n",
       "10. 'Bangladesh'\n",
       "11. 'South Africa'\n",
       "12. 'Zimbabwe'\n",
       "13. 'U.A.E.'\n",
       "14. 'Netherlands'\n",
       "15. 'Kenya'\n",
       "16. 'Scotland'\n",
       "17. 'Namibia'\n",
       "18. 'Hong Kong'\n",
       "19. 'Asia XI'\n",
       "20. 'Africa XI'\n",
       "21. 'Bermuda'\n",
       "22. 'Ireland'\n",
       "23. 'Afghanistan'\n",
       "24. 'P.N.G.'\n",
       "\n",
       "\n"
      ],
      "text/plain": [
       " [1] \"Australia\"    \"England\"      \"New Zealand\"  \"East Africa\"  \"Sri Lanka\"   \n",
       " [6] \"Pakistan\"     \"India\"        \"West Indies\"  \"Canada\"       \"Bangladesh\"  \n",
       "[11] \"South Africa\" \"Zimbabwe\"     \"U.A.E.\"       \"Netherlands\"  \"Kenya\"       \n",
       "[16] \"Scotland\"     \"Namibia\"      \"Hong Kong\"    \"Asia XI\"      \"Africa XI\"   \n",
       "[21] \"Bermuda\"      \"Ireland\"      \"Afghanistan\"  \"P.N.G.\"      "
      ]
     },
     "metadata": {},
     "output_type": "display_data"
    },
    {
     "data": {
      "text/html": [
       "<ol class=list-inline>\n",
       "\t<li>'Australia'</li>\n",
       "\t<li>'England'</li>\n",
       "\t<li>'New Zealand'</li>\n",
       "\t<li>'East Africa'</li>\n",
       "\t<li>'Sri Lanka'</li>\n",
       "\t<li>'Pakistan'</li>\n",
       "\t<li>'India'</li>\n",
       "\t<li>'West Indies'</li>\n",
       "\t<li>'Canada'</li>\n",
       "\t<li>'Bangladesh'</li>\n",
       "\t<li>'South Africa'</li>\n",
       "\t<li>'Zimbabwe'</li>\n",
       "\t<li>'U.A.E.'</li>\n",
       "\t<li>'Netherlands'</li>\n",
       "\t<li>'Kenya'</li>\n",
       "\t<li>'Scotland'</li>\n",
       "\t<li>'Namibia'</li>\n",
       "\t<li>'Hong Kong'</li>\n",
       "\t<li>'Bermuda'</li>\n",
       "\t<li>'Ireland'</li>\n",
       "\t<li>'Afghanistan'</li>\n",
       "\t<li>'P.N.G.'</li>\n",
       "\t<li>'U.S.A.'</li>\n",
       "</ol>\n"
      ],
      "text/latex": [
       "\\begin{enumerate*}\n",
       "\\item 'Australia'\n",
       "\\item 'England'\n",
       "\\item 'New Zealand'\n",
       "\\item 'East Africa'\n",
       "\\item 'Sri Lanka'\n",
       "\\item 'Pakistan'\n",
       "\\item 'India'\n",
       "\\item 'West Indies'\n",
       "\\item 'Canada'\n",
       "\\item 'Bangladesh'\n",
       "\\item 'South Africa'\n",
       "\\item 'Zimbabwe'\n",
       "\\item 'U.A.E.'\n",
       "\\item 'Netherlands'\n",
       "\\item 'Kenya'\n",
       "\\item 'Scotland'\n",
       "\\item 'Namibia'\n",
       "\\item 'Hong Kong'\n",
       "\\item 'Bermuda'\n",
       "\\item 'Ireland'\n",
       "\\item 'Afghanistan'\n",
       "\\item 'P.N.G.'\n",
       "\\item 'U.S.A.'\n",
       "\\end{enumerate*}\n"
      ],
      "text/markdown": [
       "1. 'Australia'\n",
       "2. 'England'\n",
       "3. 'New Zealand'\n",
       "4. 'East Africa'\n",
       "5. 'Sri Lanka'\n",
       "6. 'Pakistan'\n",
       "7. 'India'\n",
       "8. 'West Indies'\n",
       "9. 'Canada'\n",
       "10. 'Bangladesh'\n",
       "11. 'South Africa'\n",
       "12. 'Zimbabwe'\n",
       "13. 'U.A.E.'\n",
       "14. 'Netherlands'\n",
       "15. 'Kenya'\n",
       "16. 'Scotland'\n",
       "17. 'Namibia'\n",
       "18. 'Hong Kong'\n",
       "19. 'Bermuda'\n",
       "20. 'Ireland'\n",
       "21. 'Afghanistan'\n",
       "22. 'P.N.G.'\n",
       "23. 'U.S.A.'\n",
       "\n",
       "\n"
      ],
      "text/plain": [
       " [1] \"Australia\"    \"England\"      \"New Zealand\"  \"East Africa\"  \"Sri Lanka\"   \n",
       " [6] \"Pakistan\"     \"India\"        \"West Indies\"  \"Canada\"       \"Bangladesh\"  \n",
       "[11] \"South Africa\" \"Zimbabwe\"     \"U.A.E.\"       \"Netherlands\"  \"Kenya\"       \n",
       "[16] \"Scotland\"     \"Namibia\"      \"Hong Kong\"    \"Bermuda\"      \"Ireland\"     \n",
       "[21] \"Afghanistan\"  \"P.N.G.\"       \"U.S.A.\"      "
      ]
     },
     "metadata": {},
     "output_type": "display_data"
    }
   ],
   "source": [
    "unique(data1$Team.1)\n",
    "unique(data2$Team.1)"
   ]
  },
  {
   "cell_type": "markdown",
   "metadata": {},
   "source": [
    " - Asia XI and Africa XI missing from data1, missing in data2\n",
    " - U.S.A team new in data2, not present in data1"
   ]
  },
  {
   "cell_type": "code",
   "execution_count": null,
   "metadata": {
    "collapsed": true
   },
   "outputs": [],
   "source": []
  }
 ],
 "metadata": {
  "kernelspec": {
   "display_name": "R",
   "language": "R",
   "name": "ir"
  },
  "language_info": {
   "codemirror_mode": "r",
   "file_extension": ".r",
   "mimetype": "text/x-r-source",
   "name": "R",
   "pygments_lexer": "r",
   "version": "3.5.0"
  }
 },
 "nbformat": 4,
 "nbformat_minor": 0
}
